{
 "cells": [
  {
   "cell_type": "code",
   "execution_count": 1,
   "id": "5bd32a5f-965c-44ef-a397-8c5a0814cffd",
   "metadata": {},
   "outputs": [],
   "source": [
    "import random\n"
   ]
  },
  {
   "cell_type": "code",
   "execution_count": null,
   "id": "d5bcc8a6-537b-47a0-a0d1-2cb86b2870b9",
   "metadata": {},
   "outputs": [],
   "source": [
    "# Soldier\n",
    "class Soldier:\n",
    "    def __init__(self, health, strength):\n",
    "        # your code here\n",
    "    \n",
    "    def attack(self):\n",
    "        # your code here\n",
    "\n",
    "    def receiveDamage(self, damage):\n",
    "        # your code here"
   ]
  }
 ],
 "metadata": {
  "kernelspec": {
   "display_name": "Python 3 (ipykernel)",
   "language": "python",
   "name": "python3"
  },
  "language_info": {
   "codemirror_mode": {
    "name": "ipython",
    "version": 3
   },
   "file_extension": ".py",
   "mimetype": "text/x-python",
   "name": "python",
   "nbconvert_exporter": "python",
   "pygments_lexer": "ipython3",
   "version": "3.10.12"
  }
 },
 "nbformat": 4,
 "nbformat_minor": 5
}
